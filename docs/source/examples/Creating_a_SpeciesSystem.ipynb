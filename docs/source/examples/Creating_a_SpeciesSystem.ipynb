{
 "cells": [
  {
   "cell_type": "markdown",
   "id": "324b5ae7-ad8b-47a4-a12b-652bd4b5ea01",
   "metadata": {},
   "source": [
    "# 1. Creating a SpeciesSystem\n",
    "A SpeciesSystem object contains all Species involved in the ReactionSystem you eventually wish to create.\n",
    "\n",
    "## 1.1 From a list of Species objects"
   ]
  },
  {
   "cell_type": "code",
   "execution_count": null,
   "id": "38f3185e-939a-4601-9502-b31889709438",
   "metadata": {},
   "outputs": [],
   "source": [
    "import nskinetics as nsk\n",
    "\n",
    "E = nsk.Species('E')\n",
    "S = nsk.Species('S')\n",
    "ES = nsk.Species('ES')\n",
    "P = nsk.Species('P')\n",
    "\n",
    "sp_sys = nsk.SpeciesSystem(ID='sp_sys', all_sps=[E, S, ES, P])"
   ]
  },
  {
   "cell_type": "markdown",
   "id": "6663cc6c-1d61-4177-9d53-f887140db6d8",
   "metadata": {},
   "source": [
    "## 1.2 From a list strings"
   ]
  },
  {
   "cell_type": "code",
   "execution_count": null,
   "id": "dcf01138-2683-467b-8a38-ed8ea66a86e5",
   "metadata": {},
   "outputs": [],
   "source": [
    "import nskinetics as nsk\n",
    "\n",
    "sp_sys = nsk.SpeciesSystem(ID='sp_sys', all_sps=['E', 'S', 'ES', 'P'])"
   ]
  }
 ],
 "metadata": {
  "kernelspec": {
   "display_name": "Python 3 (ipykernel)",
   "language": "python",
   "name": "python3"
  },
  "language_info": {
   "codemirror_mode": {
    "name": "ipython",
    "version": 3
   },
   "file_extension": ".py",
   "mimetype": "text/x-python",
   "name": "python",
   "nbconvert_exporter": "python",
   "pygments_lexer": "ipython3",
   "version": "3.9.20"
  }
 },
 "nbformat": 4,
 "nbformat_minor": 5
}
