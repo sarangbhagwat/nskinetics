{
 "cells": [
  {
   "cell_type": "markdown",
   "id": "afc97981-4308-4aa0-ad28-a9745b70b6da",
   "metadata": {},
   "source": [
    "# 3. Creating a ReactionSystem\n",
    "Defining a ReactionSystem object requires providing (i) a SpeciesSystem object and (ii) a set of Reaction objects.\n",
    "Several ways to create a SpeciesSystem object are provided here, and several ways to create Reaction objects are provided here.\n",
    "\n",
    "## 3.1 From reaction strings"
   ]
  },
  {
   "cell_type": "code",
   "execution_count": null,
   "id": "788fe688-220d-4a67-bc0c-84b19e60ecc3",
   "metadata": {},
   "outputs": [],
   "source": [
    "import nskinetics as nsk\n",
    "\n",
    "# Create a SpeciesSystem object\n",
    "sp_sys = nsk.SpeciesSystem('sp_sys', \n",
    "                       ['E', 'S', 'ES', 'P'], # enzyme, substrate, enzyme-substrate complex, product\n",
    "                       concentrations=[1e-4, 1e-4, 0., 0.])\n",
    "\n",
    "# Describe reactions by writing chemical equations and kinetic parameter info\n",
    "reactions = [\n",
    "            'E + S <-> ES; kf = 12.0, kb = 10.0', # kf = kon, kb = koff\n",
    "            'ES -> E + P; kf = 32.0' # kf = kcat (enzyme turnover number)\n",
    "            ]\n",
    "\n",
    "# Generate a ReactionSystem from reaction strings\n",
    "rxn_sys = nsk.ReactionSystem(ID='rxn_sys', \n",
    "                                 reactions=reactions,\n",
    "                                 species_system=sp_sys)\n",
    "\n",
    "# Simulate the ReactionSystem\n",
    "rxn_sys.solve(t_span=[0, 2*24*3600], # I want to simulate the system over 2 days\n",
    "                 sp_conc_for_events={'S':1e-6}, # In addition to a full simulation,\n",
    "                 )                              # I want to know the time at which [S] drops to 1e-6\n",
    "\n",
    "# Plot results\n",
    "rxn_sys.plot_solution() \n",
    "\n",
    "rxn_sys.plot_solution(sps_to_include=['ES'])"
   ]
  }
 ],
 "metadata": {
  "kernelspec": {
   "display_name": "Python 3 (ipykernel)",
   "language": "python",
   "name": "python3"
  },
  "language_info": {
   "codemirror_mode": {
    "name": "ipython",
    "version": 3
   },
   "file_extension": ".py",
   "mimetype": "text/x-python",
   "name": "python",
   "nbconvert_exporter": "python",
   "pygments_lexer": "ipython3",
   "version": "3.9.20"
  }
 },
 "nbformat": 4,
 "nbformat_minor": 5
}
